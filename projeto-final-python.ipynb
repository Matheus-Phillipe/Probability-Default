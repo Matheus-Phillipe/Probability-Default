{
 "cells": [
  {
   "cell_type": "markdown",
   "id": "49e31c12",
   "metadata": {
    "papermill": {
     "duration": 0.018323,
     "end_time": "2024-04-22T21:11:35.198530",
     "exception": false,
     "start_time": "2024-04-22T21:11:35.180207",
     "status": "completed"
    },
    "tags": []
   },
   "source": [
    "# **Projeto Final Python - Analise de dados de clientes adimplentes x inadimplentes**"
   ]
  },
  {
   "cell_type": "markdown",
   "id": "829c6956",
   "metadata": {
    "papermill": {
     "duration": 0.01623,
     "end_time": "2024-04-22T21:11:35.231747",
     "exception": false,
     "start_time": "2024-04-22T21:11:35.215517",
     "status": "completed"
    },
    "tags": []
   },
   "source": [
    "# **Introdução ao problema proposto**"
   ]
  },
  {
   "cell_type": "markdown",
   "id": "e384c056",
   "metadata": {
    "papermill": {
     "duration": 0.017277,
     "end_time": "2024-04-22T21:11:35.266011",
     "exception": false,
     "start_time": "2024-04-22T21:11:35.248734",
     "status": "completed"
    },
    "tags": []
   },
   "source": [
    "Esse notebook consiste em uma análise de dados com objetivo de concluir o projeto final de Python do curso Cientista de Dados ofertado pela E.B.A.C. Inicialmente vamos importar o arquivo CSV contendo os dados de crédito de clientes de uma instituição que serão utilizados para analisar a razão entre os clientes adimplentes e inadimplentes e quais fatores esses clientes tem em comum para definir esse status. O status de adimplência e inadimplência estão definidos pela **coluna =\"Default\"** sendo \"0\" para os clientes adimplentes e \"1\" para os clientes inadimplentes. Caso necessário realizarei métodos de limpeza e transformação de dados para uma análise mais clara e acertiva."
   ]
  },
  {
   "cell_type": "markdown",
   "id": "8338d910",
   "metadata": {
    "papermill": {
     "duration": 0.015987,
     "end_time": "2024-04-22T21:11:35.298267",
     "exception": false,
     "start_time": "2024-04-22T21:11:35.282280",
     "status": "completed"
    },
    "tags": []
   },
   "source": [
    "# **Bibliotecas utilizadas**"
   ]
  },
  {
   "cell_type": "markdown",
   "id": "6821ce88",
   "metadata": {
    "papermill": {
     "duration": 0.016685,
     "end_time": "2024-04-22T21:11:35.330999",
     "exception": false,
     "start_time": "2024-04-22T21:11:35.314314",
     "status": "completed"
    },
    "tags": []
   },
   "source": [
    "Importando as blibliotecas que serão utilizadas:"
   ]
  },
  {
   "cell_type": "code",
   "execution_count": 1,
   "id": "88b8f875",
   "metadata": {
    "execution": {
     "iopub.execute_input": "2024-04-22T21:11:35.365782Z",
     "iopub.status.busy": "2024-04-22T21:11:35.364894Z",
     "iopub.status.idle": "2024-04-22T21:11:38.079439Z",
     "shell.execute_reply": "2024-04-22T21:11:38.078496Z"
    },
    "papermill": {
     "duration": 2.735444,
     "end_time": "2024-04-22T21:11:38.082555",
     "exception": false,
     "start_time": "2024-04-22T21:11:35.347111",
     "status": "completed"
    },
    "tags": []
   },
   "outputs": [],
   "source": [
    "import pandas as pd\n",
    "import seaborn as sns\n",
    "import matplotlib.pyplot as plt"
   ]
  },
  {
   "cell_type": "markdown",
   "id": "07a32952",
   "metadata": {
    "papermill": {
     "duration": 0.016966,
     "end_time": "2024-04-22T21:11:38.118550",
     "exception": false,
     "start_time": "2024-04-22T21:11:38.101584",
     "status": "completed"
    },
    "tags": []
   },
   "source": [
    "# **Carregando o arquivo e exploração dos dados**"
   ]
  },
  {
   "cell_type": "markdown",
   "id": "757dec7a",
   "metadata": {
    "papermill": {
     "duration": 0.017871,
     "end_time": "2024-04-22T21:11:38.154358",
     "exception": false,
     "start_time": "2024-04-22T21:11:38.136487",
     "status": "completed"
    },
    "tags": []
   },
   "source": [
    "O arquivo csv contendo os dados foi feito o upload no Kaggle e possui o seguinte caminho: \"/kaggle/input/dados-projeto/Python_M10_support material.csv\". Para dar sequência vamos trazer esses dados utilizando a biblioteca pandas."
   ]
  },
  {
   "cell_type": "code",
   "execution_count": 2,
   "id": "1b76980a",
   "metadata": {
    "execution": {
     "iopub.execute_input": "2024-04-22T21:11:38.192779Z",
     "iopub.status.busy": "2024-04-22T21:11:38.191936Z",
     "iopub.status.idle": "2024-04-22T21:11:38.282913Z",
     "shell.execute_reply": "2024-04-22T21:11:38.281175Z"
    },
    "papermill": {
     "duration": 0.114292,
     "end_time": "2024-04-22T21:11:38.286225",
     "exception": false,
     "start_time": "2024-04-22T21:11:38.171933",
     "status": "completed"
    },
    "tags": []
   },
   "outputs": [
    {
     "data": {
      "text/html": [
       "<div>\n",
       "<style scoped>\n",
       "    .dataframe tbody tr th:only-of-type {\n",
       "        vertical-align: middle;\n",
       "    }\n",
       "\n",
       "    .dataframe tbody tr th {\n",
       "        vertical-align: top;\n",
       "    }\n",
       "\n",
       "    .dataframe thead th {\n",
       "        text-align: right;\n",
       "    }\n",
       "</style>\n",
       "<table border=\"1\" class=\"dataframe\">\n",
       "  <thead>\n",
       "    <tr style=\"text-align: right;\">\n",
       "      <th></th>\n",
       "      <th>id</th>\n",
       "      <th>default</th>\n",
       "      <th>idade</th>\n",
       "      <th>sexo</th>\n",
       "      <th>dependentes</th>\n",
       "      <th>escolaridade</th>\n",
       "      <th>estado_civil</th>\n",
       "      <th>salario_anual</th>\n",
       "      <th>tipo_cartao</th>\n",
       "      <th>meses_de_relacionamento</th>\n",
       "      <th>qtd_produtos</th>\n",
       "      <th>iteracoes_12m</th>\n",
       "      <th>meses_inativo_12m</th>\n",
       "      <th>limite_credito</th>\n",
       "      <th>valor_transacoes_12m</th>\n",
       "      <th>qtd_transacoes_12m</th>\n",
       "    </tr>\n",
       "  </thead>\n",
       "  <tbody>\n",
       "    <tr>\n",
       "      <th>0</th>\n",
       "      <td>768805383</td>\n",
       "      <td>0</td>\n",
       "      <td>45</td>\n",
       "      <td>M</td>\n",
       "      <td>3</td>\n",
       "      <td>ensino medio</td>\n",
       "      <td>casado</td>\n",
       "      <td>$60K - $80K</td>\n",
       "      <td>blue</td>\n",
       "      <td>39</td>\n",
       "      <td>5</td>\n",
       "      <td>3</td>\n",
       "      <td>1</td>\n",
       "      <td>12.691,51</td>\n",
       "      <td>1.144,90</td>\n",
       "      <td>42</td>\n",
       "    </tr>\n",
       "    <tr>\n",
       "      <th>1</th>\n",
       "      <td>818770008</td>\n",
       "      <td>0</td>\n",
       "      <td>49</td>\n",
       "      <td>F</td>\n",
       "      <td>5</td>\n",
       "      <td>mestrado</td>\n",
       "      <td>solteiro</td>\n",
       "      <td>menos que $40K</td>\n",
       "      <td>blue</td>\n",
       "      <td>44</td>\n",
       "      <td>6</td>\n",
       "      <td>2</td>\n",
       "      <td>1</td>\n",
       "      <td>8.256,96</td>\n",
       "      <td>1.291,45</td>\n",
       "      <td>33</td>\n",
       "    </tr>\n",
       "    <tr>\n",
       "      <th>2</th>\n",
       "      <td>713982108</td>\n",
       "      <td>0</td>\n",
       "      <td>51</td>\n",
       "      <td>M</td>\n",
       "      <td>3</td>\n",
       "      <td>mestrado</td>\n",
       "      <td>casado</td>\n",
       "      <td>$80K - $120K</td>\n",
       "      <td>blue</td>\n",
       "      <td>36</td>\n",
       "      <td>4</td>\n",
       "      <td>0</td>\n",
       "      <td>1</td>\n",
       "      <td>3.418,56</td>\n",
       "      <td>1.887,72</td>\n",
       "      <td>20</td>\n",
       "    </tr>\n",
       "    <tr>\n",
       "      <th>3</th>\n",
       "      <td>769911858</td>\n",
       "      <td>0</td>\n",
       "      <td>40</td>\n",
       "      <td>F</td>\n",
       "      <td>4</td>\n",
       "      <td>ensino medio</td>\n",
       "      <td>NaN</td>\n",
       "      <td>menos que $40K</td>\n",
       "      <td>blue</td>\n",
       "      <td>34</td>\n",
       "      <td>3</td>\n",
       "      <td>1</td>\n",
       "      <td>4</td>\n",
       "      <td>3.313,03</td>\n",
       "      <td>1.171,56</td>\n",
       "      <td>20</td>\n",
       "    </tr>\n",
       "    <tr>\n",
       "      <th>4</th>\n",
       "      <td>709106358</td>\n",
       "      <td>0</td>\n",
       "      <td>40</td>\n",
       "      <td>M</td>\n",
       "      <td>3</td>\n",
       "      <td>sem educacao formal</td>\n",
       "      <td>casado</td>\n",
       "      <td>$60K - $80K</td>\n",
       "      <td>blue</td>\n",
       "      <td>21</td>\n",
       "      <td>5</td>\n",
       "      <td>0</td>\n",
       "      <td>1</td>\n",
       "      <td>4.716,22</td>\n",
       "      <td>816,08</td>\n",
       "      <td>28</td>\n",
       "    </tr>\n",
       "  </tbody>\n",
       "</table>\n",
       "</div>"
      ],
      "text/plain": [
       "          id  default  idade sexo  dependentes         escolaridade  \\\n",
       "0  768805383        0     45    M            3         ensino medio   \n",
       "1  818770008        0     49    F            5             mestrado   \n",
       "2  713982108        0     51    M            3             mestrado   \n",
       "3  769911858        0     40    F            4         ensino medio   \n",
       "4  709106358        0     40    M            3  sem educacao formal   \n",
       "\n",
       "  estado_civil   salario_anual tipo_cartao  meses_de_relacionamento  \\\n",
       "0       casado     $60K - $80K        blue                       39   \n",
       "1     solteiro  menos que $40K        blue                       44   \n",
       "2       casado    $80K - $120K        blue                       36   \n",
       "3          NaN  menos que $40K        blue                       34   \n",
       "4       casado     $60K - $80K        blue                       21   \n",
       "\n",
       "   qtd_produtos  iteracoes_12m  meses_inativo_12m limite_credito  \\\n",
       "0             5              3                  1      12.691,51   \n",
       "1             6              2                  1       8.256,96   \n",
       "2             4              0                  1       3.418,56   \n",
       "3             3              1                  4       3.313,03   \n",
       "4             5              0                  1       4.716,22   \n",
       "\n",
       "  valor_transacoes_12m  qtd_transacoes_12m  \n",
       "0             1.144,90                  42  \n",
       "1             1.291,45                  33  \n",
       "2             1.887,72                  20  \n",
       "3             1.171,56                  20  \n",
       "4               816,08                  28  "
      ]
     },
     "execution_count": 2,
     "metadata": {},
     "output_type": "execute_result"
    }
   ],
   "source": [
    "\n",
    "df= pd.read_csv('/kaggle/input/dados-projeto/Python_M10_support material.csv', na_values = 'na')\n",
    "\n",
    "df.head(n=5) #Exibe as 5 primeiras linhas do arquivo.csv\n",
    "\n"
   ]
  },
  {
   "cell_type": "code",
   "execution_count": 3,
   "id": "b6016cbd",
   "metadata": {
    "execution": {
     "iopub.execute_input": "2024-04-22T21:11:38.324775Z",
     "iopub.status.busy": "2024-04-22T21:11:38.324386Z",
     "iopub.status.idle": "2024-04-22T21:11:38.342578Z",
     "shell.execute_reply": "2024-04-22T21:11:38.340052Z"
    },
    "papermill": {
     "duration": 0.041142,
     "end_time": "2024-04-22T21:11:38.345996",
     "exception": false,
     "start_time": "2024-04-22T21:11:38.304854",
     "status": "completed"
    },
    "tags": []
   },
   "outputs": [
    {
     "name": "stdout",
     "output_type": "stream",
     "text": [
      "O total de clientes é: 10127\n",
      "O total de clientes adimplentes é:8500 e representa 83.93% do total\n",
      "O total de clientes inadimplentes é:1627 e representa 16.07% o total\n"
     ]
    }
   ],
   "source": [
    "df.shape # Retorna o numero de linhas e colunas do arquivo CSV\n",
    "total,_ = df.shape # Armazena o valor total na variavel total\n",
    "total_adimplentes,_ = df[df['default']== 0].shape #Filtra todos os casos com default = 0 e armazena na variavel total_adimplentes\n",
    "total_inadimplentes,_ = df[df['default']==1].shape #Filtra todos os casos com default = 1 e armazena na variavel total_inadimplentes\n",
    "\n",
    "propor_adimplente = round(100 * total_adimplentes / total, 2)\n",
    "propor_inadimplente = round(100 * total_inadimplentes / total, 2)\n",
    "\n",
    "print(f'O total de clientes é: {total}')\n",
    "print(f'O total de clientes adimplentes é:{total_adimplentes}'+ f' e representa {propor_adimplente}% do total')\n",
    "print(f'O total de clientes inadimplentes é:{total_inadimplentes}'+ f' e representa {propor_inadimplente}% o total') "
   ]
  },
  {
   "cell_type": "markdown",
   "id": "3e946f43",
   "metadata": {
    "papermill": {
     "duration": 0.017876,
     "end_time": "2024-04-22T21:11:38.382385",
     "exception": false,
     "start_time": "2024-04-22T21:11:38.364509",
     "status": "completed"
    },
    "tags": []
   },
   "source": [
    "Devemos verificar os tipos dos dados de cada coluna, caso algum esteja no formato errado será necessário a correção."
   ]
  },
  {
   "cell_type": "code",
   "execution_count": 4,
   "id": "9919dad6",
   "metadata": {
    "execution": {
     "iopub.execute_input": "2024-04-22T21:11:38.421198Z",
     "iopub.status.busy": "2024-04-22T21:11:38.420745Z",
     "iopub.status.idle": "2024-04-22T21:11:38.429481Z",
     "shell.execute_reply": "2024-04-22T21:11:38.428574Z"
    },
    "papermill": {
     "duration": 0.031169,
     "end_time": "2024-04-22T21:11:38.431945",
     "exception": false,
     "start_time": "2024-04-22T21:11:38.400776",
     "status": "completed"
    },
    "tags": []
   },
   "outputs": [
    {
     "data": {
      "text/plain": [
       "id                          int64\n",
       "default                     int64\n",
       "idade                       int64\n",
       "sexo                       object\n",
       "dependentes                 int64\n",
       "escolaridade               object\n",
       "estado_civil               object\n",
       "salario_anual              object\n",
       "tipo_cartao                object\n",
       "meses_de_relacionamento     int64\n",
       "qtd_produtos                int64\n",
       "iteracoes_12m               int64\n",
       "meses_inativo_12m           int64\n",
       "limite_credito             object\n",
       "valor_transacoes_12m       object\n",
       "qtd_transacoes_12m          int64\n",
       "dtype: object"
      ]
     },
     "execution_count": 4,
     "metadata": {},
     "output_type": "execute_result"
    }
   ],
   "source": [
    "df.dtypes #Verifica os tipos dos dados"
   ]
  },
  {
   "cell_type": "code",
   "execution_count": 5,
   "id": "6df62848",
   "metadata": {
    "execution": {
     "iopub.execute_input": "2024-04-22T21:11:38.473633Z",
     "iopub.status.busy": "2024-04-22T21:11:38.472887Z",
     "iopub.status.idle": "2024-04-22T21:11:38.534553Z",
     "shell.execute_reply": "2024-04-22T21:11:38.532655Z"
    },
    "papermill": {
     "duration": 0.086992,
     "end_time": "2024-04-22T21:11:38.538149",
     "exception": false,
     "start_time": "2024-04-22T21:11:38.451157",
     "status": "completed"
    },
    "tags": []
   },
   "outputs": [
    {
     "data": {
      "text/html": [
       "<div>\n",
       "<style scoped>\n",
       "    .dataframe tbody tr th:only-of-type {\n",
       "        vertical-align: middle;\n",
       "    }\n",
       "\n",
       "    .dataframe tbody tr th {\n",
       "        vertical-align: top;\n",
       "    }\n",
       "\n",
       "    .dataframe thead th {\n",
       "        text-align: right;\n",
       "    }\n",
       "</style>\n",
       "<table border=\"1\" class=\"dataframe\">\n",
       "  <thead>\n",
       "    <tr style=\"text-align: right;\">\n",
       "      <th></th>\n",
       "      <th>count</th>\n",
       "      <th>unique</th>\n",
       "      <th>top</th>\n",
       "      <th>freq</th>\n",
       "    </tr>\n",
       "  </thead>\n",
       "  <tbody>\n",
       "    <tr>\n",
       "      <th>sexo</th>\n",
       "      <td>10127</td>\n",
       "      <td>2</td>\n",
       "      <td>F</td>\n",
       "      <td>5358</td>\n",
       "    </tr>\n",
       "    <tr>\n",
       "      <th>escolaridade</th>\n",
       "      <td>8608</td>\n",
       "      <td>5</td>\n",
       "      <td>mestrado</td>\n",
       "      <td>3128</td>\n",
       "    </tr>\n",
       "    <tr>\n",
       "      <th>estado_civil</th>\n",
       "      <td>9378</td>\n",
       "      <td>3</td>\n",
       "      <td>casado</td>\n",
       "      <td>4687</td>\n",
       "    </tr>\n",
       "    <tr>\n",
       "      <th>salario_anual</th>\n",
       "      <td>9015</td>\n",
       "      <td>5</td>\n",
       "      <td>menos que $40K</td>\n",
       "      <td>3561</td>\n",
       "    </tr>\n",
       "    <tr>\n",
       "      <th>tipo_cartao</th>\n",
       "      <td>10127</td>\n",
       "      <td>4</td>\n",
       "      <td>blue</td>\n",
       "      <td>9436</td>\n",
       "    </tr>\n",
       "    <tr>\n",
       "      <th>limite_credito</th>\n",
       "      <td>10127</td>\n",
       "      <td>9272</td>\n",
       "      <td>1.438,21</td>\n",
       "      <td>11</td>\n",
       "    </tr>\n",
       "    <tr>\n",
       "      <th>valor_transacoes_12m</th>\n",
       "      <td>10127</td>\n",
       "      <td>10035</td>\n",
       "      <td>3.851,51</td>\n",
       "      <td>3</td>\n",
       "    </tr>\n",
       "  </tbody>\n",
       "</table>\n",
       "</div>"
      ],
      "text/plain": [
       "                      count unique             top  freq\n",
       "sexo                  10127      2               F  5358\n",
       "escolaridade           8608      5        mestrado  3128\n",
       "estado_civil           9378      3          casado  4687\n",
       "salario_anual          9015      5  menos que $40K  3561\n",
       "tipo_cartao           10127      4            blue  9436\n",
       "limite_credito        10127   9272        1.438,21    11\n",
       "valor_transacoes_12m  10127  10035        3.851,51     3"
      ]
     },
     "execution_count": 5,
     "metadata": {},
     "output_type": "execute_result"
    }
   ],
   "source": [
    "df.select_dtypes('object').describe().transpose() #Filtra apenas as colunas do tipo 'object'"
   ]
  },
  {
   "cell_type": "code",
   "execution_count": 6,
   "id": "ef8854b2",
   "metadata": {
    "execution": {
     "iopub.execute_input": "2024-04-22T21:11:38.579730Z",
     "iopub.status.busy": "2024-04-22T21:11:38.578970Z",
     "iopub.status.idle": "2024-04-22T21:11:38.629511Z",
     "shell.execute_reply": "2024-04-22T21:11:38.628624Z"
    },
    "papermill": {
     "duration": 0.07521,
     "end_time": "2024-04-22T21:11:38.632430",
     "exception": false,
     "start_time": "2024-04-22T21:11:38.557220",
     "status": "completed"
    },
    "tags": []
   },
   "outputs": [
    {
     "data": {
      "text/html": [
       "<div>\n",
       "<style scoped>\n",
       "    .dataframe tbody tr th:only-of-type {\n",
       "        vertical-align: middle;\n",
       "    }\n",
       "\n",
       "    .dataframe tbody tr th {\n",
       "        vertical-align: top;\n",
       "    }\n",
       "\n",
       "    .dataframe thead th {\n",
       "        text-align: right;\n",
       "    }\n",
       "</style>\n",
       "<table border=\"1\" class=\"dataframe\">\n",
       "  <thead>\n",
       "    <tr style=\"text-align: right;\">\n",
       "      <th></th>\n",
       "      <th>count</th>\n",
       "      <th>mean</th>\n",
       "      <th>std</th>\n",
       "      <th>min</th>\n",
       "      <th>25%</th>\n",
       "      <th>50%</th>\n",
       "      <th>75%</th>\n",
       "      <th>max</th>\n",
       "    </tr>\n",
       "  </thead>\n",
       "  <tbody>\n",
       "    <tr>\n",
       "      <th>default</th>\n",
       "      <td>10127.0</td>\n",
       "      <td>0.160660</td>\n",
       "      <td>0.367235</td>\n",
       "      <td>0.0</td>\n",
       "      <td>0.0</td>\n",
       "      <td>0.0</td>\n",
       "      <td>0.0</td>\n",
       "      <td>1.0</td>\n",
       "    </tr>\n",
       "    <tr>\n",
       "      <th>idade</th>\n",
       "      <td>10127.0</td>\n",
       "      <td>46.325960</td>\n",
       "      <td>8.016814</td>\n",
       "      <td>26.0</td>\n",
       "      <td>41.0</td>\n",
       "      <td>46.0</td>\n",
       "      <td>52.0</td>\n",
       "      <td>73.0</td>\n",
       "    </tr>\n",
       "    <tr>\n",
       "      <th>dependentes</th>\n",
       "      <td>10127.0</td>\n",
       "      <td>2.346203</td>\n",
       "      <td>1.298908</td>\n",
       "      <td>0.0</td>\n",
       "      <td>1.0</td>\n",
       "      <td>2.0</td>\n",
       "      <td>3.0</td>\n",
       "      <td>5.0</td>\n",
       "    </tr>\n",
       "    <tr>\n",
       "      <th>meses_de_relacionamento</th>\n",
       "      <td>10127.0</td>\n",
       "      <td>35.928409</td>\n",
       "      <td>7.986416</td>\n",
       "      <td>13.0</td>\n",
       "      <td>31.0</td>\n",
       "      <td>36.0</td>\n",
       "      <td>40.0</td>\n",
       "      <td>56.0</td>\n",
       "    </tr>\n",
       "    <tr>\n",
       "      <th>qtd_produtos</th>\n",
       "      <td>10127.0</td>\n",
       "      <td>3.812580</td>\n",
       "      <td>1.554408</td>\n",
       "      <td>1.0</td>\n",
       "      <td>3.0</td>\n",
       "      <td>4.0</td>\n",
       "      <td>5.0</td>\n",
       "      <td>6.0</td>\n",
       "    </tr>\n",
       "    <tr>\n",
       "      <th>iteracoes_12m</th>\n",
       "      <td>10127.0</td>\n",
       "      <td>2.455317</td>\n",
       "      <td>1.106225</td>\n",
       "      <td>0.0</td>\n",
       "      <td>2.0</td>\n",
       "      <td>2.0</td>\n",
       "      <td>3.0</td>\n",
       "      <td>6.0</td>\n",
       "    </tr>\n",
       "    <tr>\n",
       "      <th>meses_inativo_12m</th>\n",
       "      <td>10127.0</td>\n",
       "      <td>2.341167</td>\n",
       "      <td>1.010622</td>\n",
       "      <td>0.0</td>\n",
       "      <td>2.0</td>\n",
       "      <td>2.0</td>\n",
       "      <td>3.0</td>\n",
       "      <td>6.0</td>\n",
       "    </tr>\n",
       "    <tr>\n",
       "      <th>qtd_transacoes_12m</th>\n",
       "      <td>10127.0</td>\n",
       "      <td>64.858695</td>\n",
       "      <td>23.472570</td>\n",
       "      <td>10.0</td>\n",
       "      <td>45.0</td>\n",
       "      <td>67.0</td>\n",
       "      <td>81.0</td>\n",
       "      <td>139.0</td>\n",
       "    </tr>\n",
       "  </tbody>\n",
       "</table>\n",
       "</div>"
      ],
      "text/plain": [
       "                           count       mean        std   min   25%   50%  \\\n",
       "default                  10127.0   0.160660   0.367235   0.0   0.0   0.0   \n",
       "idade                    10127.0  46.325960   8.016814  26.0  41.0  46.0   \n",
       "dependentes              10127.0   2.346203   1.298908   0.0   1.0   2.0   \n",
       "meses_de_relacionamento  10127.0  35.928409   7.986416  13.0  31.0  36.0   \n",
       "qtd_produtos             10127.0   3.812580   1.554408   1.0   3.0   4.0   \n",
       "iteracoes_12m            10127.0   2.455317   1.106225   0.0   2.0   2.0   \n",
       "meses_inativo_12m        10127.0   2.341167   1.010622   0.0   2.0   2.0   \n",
       "qtd_transacoes_12m       10127.0  64.858695  23.472570  10.0  45.0  67.0   \n",
       "\n",
       "                          75%    max  \n",
       "default                   0.0    1.0  \n",
       "idade                    52.0   73.0  \n",
       "dependentes               3.0    5.0  \n",
       "meses_de_relacionamento  40.0   56.0  \n",
       "qtd_produtos              5.0    6.0  \n",
       "iteracoes_12m             3.0    6.0  \n",
       "meses_inativo_12m         3.0    6.0  \n",
       "qtd_transacoes_12m       81.0  139.0  "
      ]
     },
     "execution_count": 6,
     "metadata": {},
     "output_type": "execute_result"
    }
   ],
   "source": [
    "df.drop('id', axis =1).select_dtypes('number').describe().transpose() #Retira a primeira coluna 'id' e retorna as colunas do tipo 'number'"
   ]
  },
  {
   "cell_type": "markdown",
   "id": "c51be3de",
   "metadata": {
    "papermill": {
     "duration": 0.018737,
     "end_time": "2024-04-22T21:11:38.670396",
     "exception": false,
     "start_time": "2024-04-22T21:11:38.651659",
     "status": "completed"
    },
    "tags": []
   },
   "source": [
    "Com as informações extraidas do arquivo, é chegada a hora de realizar as transformações e limpezas.\n",
    "Analisando o Schema, as colunas \"limite_credito\" e \"valor_transacoes,12m\" deveriam ser do tipo \"number\", então será necessario realizar essa transformação."
   ]
  },
  {
   "cell_type": "code",
   "execution_count": 7,
   "id": "ac2cda94",
   "metadata": {
    "execution": {
     "iopub.execute_input": "2024-04-22T21:11:38.713074Z",
     "iopub.status.busy": "2024-04-22T21:11:38.712385Z",
     "iopub.status.idle": "2024-04-22T21:11:38.726241Z",
     "shell.execute_reply": "2024-04-22T21:11:38.725034Z"
    },
    "papermill": {
     "duration": 0.039555,
     "end_time": "2024-04-22T21:11:38.729288",
     "exception": false,
     "start_time": "2024-04-22T21:11:38.689733",
     "status": "completed"
    },
    "tags": []
   },
   "outputs": [
    {
     "data": {
      "text/plain": [
       "limite_credito          object\n",
       "valor_transacoes_12m    object\n",
       "dtype: object"
      ]
     },
     "execution_count": 7,
     "metadata": {},
     "output_type": "execute_result"
    }
   ],
   "source": [
    "df[['limite_credito', 'valor_transacoes_12m']].dtypes #Mostra o tipo dessas duas colunas"
   ]
  },
  {
   "cell_type": "markdown",
   "id": "193ce6b3",
   "metadata": {
    "papermill": {
     "duration": 0.017132,
     "end_time": "2024-04-22T21:11:38.765112",
     "exception": false,
     "start_time": "2024-04-22T21:11:38.747980",
     "status": "completed"
    },
    "tags": []
   },
   "source": [
    "# **Limpeza e transformação dos dados**"
   ]
  },
  {
   "cell_type": "markdown",
   "id": "acaa1806",
   "metadata": {
    "papermill": {
     "duration": 0.017112,
     "end_time": "2024-04-22T21:11:38.799642",
     "exception": false,
     "start_time": "2024-04-22T21:11:38.782530",
     "status": "completed"
    },
    "tags": []
   },
   "source": [
    "Criação de uma função lambda para corrigir o padrao de escrita da string substituindo pontos(\".\") por espaços vazios(\"\") e virgulas(\",\") por pontos(\".\"). Afim de converter dtype 'object'em 'float64'."
   ]
  },
  {
   "cell_type": "code",
   "execution_count": 8,
   "id": "aac723ca",
   "metadata": {
    "execution": {
     "iopub.execute_input": "2024-04-22T21:11:38.839481Z",
     "iopub.status.busy": "2024-04-22T21:11:38.839004Z",
     "iopub.status.idle": "2024-04-22T21:11:38.847998Z",
     "shell.execute_reply": "2024-04-22T21:11:38.846366Z"
    },
    "papermill": {
     "duration": 0.033386,
     "end_time": "2024-04-22T21:11:38.852016",
     "exception": false,
     "start_time": "2024-04-22T21:11:38.818630",
     "status": "completed"
    },
    "tags": []
   },
   "outputs": [
    {
     "name": "stdout",
     "output_type": "stream",
     "text": [
      "['12.691,51', '8.256,96', '3.418,56', '3.313,03', '4.716,22']\n",
      "[12691.51, 8256.96, 3418.56, 3313.03, 4716.22]\n",
      "<class 'float'>\n"
     ]
    }
   ],
   "source": [
    "fn = lambda valor: float(valor.replace(\".\", \"\").replace(\",\", \".\"))\n",
    "\n",
    "valores_originais = ['12.691,51', '8.256,96', '3.418,56', '3.313,03', '4.716,22'] #Testando se a funcao está funcionando corretamente\n",
    "valores_limpos = list(map(fn, valores_originais))\n",
    "print(valores_originais)\n",
    "print(valores_limpos)\n",
    "print(type(valores_limpos[1]))"
   ]
  },
  {
   "cell_type": "markdown",
   "id": "ebdb5024",
   "metadata": {
    "papermill": {
     "duration": 0.017381,
     "end_time": "2024-04-22T21:11:38.887930",
     "exception": false,
     "start_time": "2024-04-22T21:11:38.870549",
     "status": "completed"
    },
    "tags": []
   },
   "source": [
    "Após verificada a função, basta aplicar sobre as colunas alvo."
   ]
  },
  {
   "cell_type": "code",
   "execution_count": 9,
   "id": "a8c9f495",
   "metadata": {
    "execution": {
     "iopub.execute_input": "2024-04-22T21:11:38.927958Z",
     "iopub.status.busy": "2024-04-22T21:11:38.927509Z",
     "iopub.status.idle": "2024-04-22T21:11:38.955731Z",
     "shell.execute_reply": "2024-04-22T21:11:38.953922Z"
    },
    "papermill": {
     "duration": 0.051927,
     "end_time": "2024-04-22T21:11:38.958610",
     "exception": false,
     "start_time": "2024-04-22T21:11:38.906683",
     "status": "completed"
    },
    "tags": []
   },
   "outputs": [],
   "source": [
    "df['valor_transacoes_12m'] = df['valor_transacoes_12m'].apply(fn)\n",
    "df['limite_credito'] = df['limite_credito'].apply(fn)"
   ]
  },
  {
   "cell_type": "markdown",
   "id": "3d293e92",
   "metadata": {
    "papermill": {
     "duration": 0.020253,
     "end_time": "2024-04-22T21:11:39.061115",
     "exception": false,
     "start_time": "2024-04-22T21:11:39.040862",
     "status": "completed"
    },
    "tags": []
   },
   "source": [
    "Verificando novamente os tipos das colunas alvo."
   ]
  },
  {
   "cell_type": "code",
   "execution_count": 10,
   "id": "ba610318",
   "metadata": {
    "execution": {
     "iopub.execute_input": "2024-04-22T21:11:39.100202Z",
     "iopub.status.busy": "2024-04-22T21:11:39.099761Z",
     "iopub.status.idle": "2024-04-22T21:11:39.110110Z",
     "shell.execute_reply": "2024-04-22T21:11:39.109097Z"
    },
    "papermill": {
     "duration": 0.033229,
     "end_time": "2024-04-22T21:11:39.112766",
     "exception": false,
     "start_time": "2024-04-22T21:11:39.079537",
     "status": "completed"
    },
    "tags": []
   },
   "outputs": [
    {
     "data": {
      "text/plain": [
       "limite_credito          float64\n",
       "valor_transacoes_12m    float64\n",
       "dtype: object"
      ]
     },
     "execution_count": 10,
     "metadata": {},
     "output_type": "execute_result"
    }
   ],
   "source": [
    "df[['limite_credito', 'valor_transacoes_12m']].dtypes"
   ]
  },
  {
   "cell_type": "code",
   "execution_count": 11,
   "id": "72b2b59c",
   "metadata": {
    "execution": {
     "iopub.execute_input": "2024-04-22T21:11:39.153792Z",
     "iopub.status.busy": "2024-04-22T21:11:39.153330Z",
     "iopub.status.idle": "2024-04-22T21:11:39.204438Z",
     "shell.execute_reply": "2024-04-22T21:11:39.202921Z"
    },
    "papermill": {
     "duration": 0.07538,
     "end_time": "2024-04-22T21:11:39.207361",
     "exception": false,
     "start_time": "2024-04-22T21:11:39.131981",
     "status": "completed"
    },
    "tags": []
   },
   "outputs": [
    {
     "data": {
      "text/html": [
       "<div>\n",
       "<style scoped>\n",
       "    .dataframe tbody tr th:only-of-type {\n",
       "        vertical-align: middle;\n",
       "    }\n",
       "\n",
       "    .dataframe tbody tr th {\n",
       "        vertical-align: top;\n",
       "    }\n",
       "\n",
       "    .dataframe thead th {\n",
       "        text-align: right;\n",
       "    }\n",
       "</style>\n",
       "<table border=\"1\" class=\"dataframe\">\n",
       "  <thead>\n",
       "    <tr style=\"text-align: right;\">\n",
       "      <th></th>\n",
       "      <th>count</th>\n",
       "      <th>mean</th>\n",
       "      <th>std</th>\n",
       "      <th>min</th>\n",
       "      <th>25%</th>\n",
       "      <th>50%</th>\n",
       "      <th>75%</th>\n",
       "      <th>max</th>\n",
       "    </tr>\n",
       "  </thead>\n",
       "  <tbody>\n",
       "    <tr>\n",
       "      <th>default</th>\n",
       "      <td>10127.0</td>\n",
       "      <td>0.160660</td>\n",
       "      <td>0.367235</td>\n",
       "      <td>0.00</td>\n",
       "      <td>0.000</td>\n",
       "      <td>0.00</td>\n",
       "      <td>0.000</td>\n",
       "      <td>1.00</td>\n",
       "    </tr>\n",
       "    <tr>\n",
       "      <th>idade</th>\n",
       "      <td>10127.0</td>\n",
       "      <td>46.325960</td>\n",
       "      <td>8.016814</td>\n",
       "      <td>26.00</td>\n",
       "      <td>41.000</td>\n",
       "      <td>46.00</td>\n",
       "      <td>52.000</td>\n",
       "      <td>73.00</td>\n",
       "    </tr>\n",
       "    <tr>\n",
       "      <th>dependentes</th>\n",
       "      <td>10127.0</td>\n",
       "      <td>2.346203</td>\n",
       "      <td>1.298908</td>\n",
       "      <td>0.00</td>\n",
       "      <td>1.000</td>\n",
       "      <td>2.00</td>\n",
       "      <td>3.000</td>\n",
       "      <td>5.00</td>\n",
       "    </tr>\n",
       "    <tr>\n",
       "      <th>meses_de_relacionamento</th>\n",
       "      <td>10127.0</td>\n",
       "      <td>35.928409</td>\n",
       "      <td>7.986416</td>\n",
       "      <td>13.00</td>\n",
       "      <td>31.000</td>\n",
       "      <td>36.00</td>\n",
       "      <td>40.000</td>\n",
       "      <td>56.00</td>\n",
       "    </tr>\n",
       "    <tr>\n",
       "      <th>qtd_produtos</th>\n",
       "      <td>10127.0</td>\n",
       "      <td>3.812580</td>\n",
       "      <td>1.554408</td>\n",
       "      <td>1.00</td>\n",
       "      <td>3.000</td>\n",
       "      <td>4.00</td>\n",
       "      <td>5.000</td>\n",
       "      <td>6.00</td>\n",
       "    </tr>\n",
       "    <tr>\n",
       "      <th>iteracoes_12m</th>\n",
       "      <td>10127.0</td>\n",
       "      <td>2.455317</td>\n",
       "      <td>1.106225</td>\n",
       "      <td>0.00</td>\n",
       "      <td>2.000</td>\n",
       "      <td>2.00</td>\n",
       "      <td>3.000</td>\n",
       "      <td>6.00</td>\n",
       "    </tr>\n",
       "    <tr>\n",
       "      <th>meses_inativo_12m</th>\n",
       "      <td>10127.0</td>\n",
       "      <td>2.341167</td>\n",
       "      <td>1.010622</td>\n",
       "      <td>0.00</td>\n",
       "      <td>2.000</td>\n",
       "      <td>2.00</td>\n",
       "      <td>3.000</td>\n",
       "      <td>6.00</td>\n",
       "    </tr>\n",
       "    <tr>\n",
       "      <th>limite_credito</th>\n",
       "      <td>10127.0</td>\n",
       "      <td>8632.440165</td>\n",
       "      <td>9088.788041</td>\n",
       "      <td>1438.00</td>\n",
       "      <td>2555.355</td>\n",
       "      <td>4549.42</td>\n",
       "      <td>11068.175</td>\n",
       "      <td>34516.99</td>\n",
       "    </tr>\n",
       "    <tr>\n",
       "      <th>valor_transacoes_12m</th>\n",
       "      <td>10127.0</td>\n",
       "      <td>4404.583047</td>\n",
       "      <td>3397.128078</td>\n",
       "      <td>510.16</td>\n",
       "      <td>2155.825</td>\n",
       "      <td>3899.59</td>\n",
       "      <td>4741.310</td>\n",
       "      <td>18484.93</td>\n",
       "    </tr>\n",
       "    <tr>\n",
       "      <th>qtd_transacoes_12m</th>\n",
       "      <td>10127.0</td>\n",
       "      <td>64.858695</td>\n",
       "      <td>23.472570</td>\n",
       "      <td>10.00</td>\n",
       "      <td>45.000</td>\n",
       "      <td>67.00</td>\n",
       "      <td>81.000</td>\n",
       "      <td>139.00</td>\n",
       "    </tr>\n",
       "  </tbody>\n",
       "</table>\n",
       "</div>"
      ],
      "text/plain": [
       "                           count         mean          std      min       25%  \\\n",
       "default                  10127.0     0.160660     0.367235     0.00     0.000   \n",
       "idade                    10127.0    46.325960     8.016814    26.00    41.000   \n",
       "dependentes              10127.0     2.346203     1.298908     0.00     1.000   \n",
       "meses_de_relacionamento  10127.0    35.928409     7.986416    13.00    31.000   \n",
       "qtd_produtos             10127.0     3.812580     1.554408     1.00     3.000   \n",
       "iteracoes_12m            10127.0     2.455317     1.106225     0.00     2.000   \n",
       "meses_inativo_12m        10127.0     2.341167     1.010622     0.00     2.000   \n",
       "limite_credito           10127.0  8632.440165  9088.788041  1438.00  2555.355   \n",
       "valor_transacoes_12m     10127.0  4404.583047  3397.128078   510.16  2155.825   \n",
       "qtd_transacoes_12m       10127.0    64.858695    23.472570    10.00    45.000   \n",
       "\n",
       "                             50%        75%       max  \n",
       "default                     0.00      0.000      1.00  \n",
       "idade                      46.00     52.000     73.00  \n",
       "dependentes                 2.00      3.000      5.00  \n",
       "meses_de_relacionamento    36.00     40.000     56.00  \n",
       "qtd_produtos                4.00      5.000      6.00  \n",
       "iteracoes_12m               2.00      3.000      6.00  \n",
       "meses_inativo_12m           2.00      3.000      6.00  \n",
       "limite_credito           4549.42  11068.175  34516.99  \n",
       "valor_transacoes_12m     3899.59   4741.310  18484.93  \n",
       "qtd_transacoes_12m         67.00     81.000    139.00  "
      ]
     },
     "execution_count": 11,
     "metadata": {},
     "output_type": "execute_result"
    }
   ],
   "source": [
    "df.drop('id', axis =1).select_dtypes('number').describe().transpose() #Retira a primeira coluna 'id' e retorna as colunas do tipo 'number'"
   ]
  },
  {
   "cell_type": "markdown",
   "id": "2f9b6bf5",
   "metadata": {
    "papermill": {
     "duration": 0.01797,
     "end_time": "2024-04-22T21:11:39.244027",
     "exception": false,
     "start_time": "2024-04-22T21:11:39.226057",
     "status": "completed"
    },
    "tags": []
   },
   "source": [
    "O proximo procedimento será analisar quais colunas estão afetadas pelos dados faltantes.  "
   ]
  },
  {
   "cell_type": "code",
   "execution_count": 12,
   "id": "4185b656",
   "metadata": {
    "execution": {
     "iopub.execute_input": "2024-04-22T21:11:39.282598Z",
     "iopub.status.busy": "2024-04-22T21:11:39.282230Z",
     "iopub.status.idle": "2024-04-22T21:11:39.300375Z",
     "shell.execute_reply": "2024-04-22T21:11:39.298886Z"
    },
    "papermill": {
     "duration": 0.041452,
     "end_time": "2024-04-22T21:11:39.303645",
     "exception": false,
     "start_time": "2024-04-22T21:11:39.262193",
     "status": "completed"
    },
    "tags": []
   },
   "outputs": [
    {
     "data": {
      "text/plain": [
       "id                         False\n",
       "default                    False\n",
       "idade                      False\n",
       "sexo                       False\n",
       "dependentes                False\n",
       "escolaridade                True\n",
       "estado_civil                True\n",
       "salario_anual               True\n",
       "tipo_cartao                False\n",
       "meses_de_relacionamento    False\n",
       "qtd_produtos               False\n",
       "iteracoes_12m              False\n",
       "meses_inativo_12m          False\n",
       "limite_credito             False\n",
       "valor_transacoes_12m       False\n",
       "qtd_transacoes_12m         False\n",
       "dtype: bool"
      ]
     },
     "execution_count": 12,
     "metadata": {},
     "output_type": "execute_result"
    }
   ],
   "source": [
    "df.isna().any() #Verifica entre as linhas, as colunas preenchidas com 'na'"
   ]
  },
  {
   "cell_type": "markdown",
   "id": "9f07750f",
   "metadata": {
    "papermill": {
     "duration": 0.018347,
     "end_time": "2024-04-22T21:11:39.340942",
     "exception": false,
     "start_time": "2024-04-22T21:11:39.322595",
     "status": "completed"
    },
    "tags": []
   },
   "source": [
    "A função a seguir, irá retirar algumas estatisticas das colunas com dados faltantes (escolaridade, estado_civil e salario_anual)"
   ]
  },
  {
   "cell_type": "code",
   "execution_count": 13,
   "id": "03a71608",
   "metadata": {
    "execution": {
     "iopub.execute_input": "2024-04-22T21:11:39.380330Z",
     "iopub.status.busy": "2024-04-22T21:11:39.379793Z",
     "iopub.status.idle": "2024-04-22T21:11:39.388649Z",
     "shell.execute_reply": "2024-04-22T21:11:39.387185Z"
    },
    "papermill": {
     "duration": 0.032244,
     "end_time": "2024-04-22T21:11:39.391812",
     "exception": false,
     "start_time": "2024-04-22T21:11:39.359568",
     "status": "completed"
    },
    "tags": []
   },
   "outputs": [],
   "source": [
    "def estatistica_dados_faltantes(df: pd.DataFrame) -> None:\n",
    "\n",
    "  estatistica_dados_faltantes = []\n",
    "  for coluna in df.columns:\n",
    "    if df[coluna].isna().any():\n",
    "      qtd, _ = df[df[coluna].isna()].shape\n",
    "      total, _ = df.shape\n",
    "      dict_dados_faltantes = {coluna: {'quantidade': qtd, \"porcentagem\": round(100 * qtd/total, 2)}}\n",
    "      estatistica_dados_faltantes.append(dict_dados_faltantes)\n",
    "\n",
    "  for stat in estatistica_dados_faltantes:\n",
    "    print(stat)"
   ]
  },
  {
   "cell_type": "code",
   "execution_count": 14,
   "id": "151dccef",
   "metadata": {
    "execution": {
     "iopub.execute_input": "2024-04-22T21:11:39.436475Z",
     "iopub.status.busy": "2024-04-22T21:11:39.436029Z",
     "iopub.status.idle": "2024-04-22T21:11:39.461685Z",
     "shell.execute_reply": "2024-04-22T21:11:39.460157Z"
    },
    "papermill": {
     "duration": 0.051299,
     "end_time": "2024-04-22T21:11:39.464856",
     "exception": false,
     "start_time": "2024-04-22T21:11:39.413557",
     "status": "completed"
    },
    "tags": []
   },
   "outputs": [
    {
     "name": "stdout",
     "output_type": "stream",
     "text": [
      "{'escolaridade': {'quantidade': 1519, 'porcentagem': 15.0}}\n",
      "{'estado_civil': {'quantidade': 749, 'porcentagem': 7.4}}\n",
      "{'salario_anual': {'quantidade': 1112, 'porcentagem': 10.98}}\n"
     ]
    }
   ],
   "source": [
    "estatistica_dados_faltantes(df=df) #levanta os dados faltantes sobre o total"
   ]
  },
  {
   "cell_type": "code",
   "execution_count": 15,
   "id": "c8a7a4a7",
   "metadata": {
    "execution": {
     "iopub.execute_input": "2024-04-22T21:11:39.509013Z",
     "iopub.status.busy": "2024-04-22T21:11:39.508507Z",
     "iopub.status.idle": "2024-04-22T21:11:39.532359Z",
     "shell.execute_reply": "2024-04-22T21:11:39.531320Z"
    },
    "papermill": {
     "duration": 0.050444,
     "end_time": "2024-04-22T21:11:39.535881",
     "exception": false,
     "start_time": "2024-04-22T21:11:39.485437",
     "status": "completed"
    },
    "tags": []
   },
   "outputs": [
    {
     "name": "stdout",
     "output_type": "stream",
     "text": [
      "{'escolaridade': {'quantidade': 1263, 'porcentagem': 14.86}}\n",
      "{'estado_civil': {'quantidade': 620, 'porcentagem': 7.29}}\n",
      "{'salario_anual': {'quantidade': 925, 'porcentagem': 10.88}}\n"
     ]
    }
   ],
   "source": [
    "estatistica_dados_faltantes(df=df[df['default']==0]) #levanta os dados faltantes sobre os clientes adimplentes (Default = 0)"
   ]
  },
  {
   "cell_type": "code",
   "execution_count": 16,
   "id": "a06fc581",
   "metadata": {
    "execution": {
     "iopub.execute_input": "2024-04-22T21:11:39.581211Z",
     "iopub.status.busy": "2024-04-22T21:11:39.580526Z",
     "iopub.status.idle": "2024-04-22T21:11:39.594181Z",
     "shell.execute_reply": "2024-04-22T21:11:39.592772Z"
    },
    "papermill": {
     "duration": 0.039522,
     "end_time": "2024-04-22T21:11:39.597261",
     "exception": false,
     "start_time": "2024-04-22T21:11:39.557739",
     "status": "completed"
    },
    "tags": []
   },
   "outputs": [
    {
     "name": "stdout",
     "output_type": "stream",
     "text": [
      "{'escolaridade': {'quantidade': 256, 'porcentagem': 15.73}}\n",
      "{'estado_civil': {'quantidade': 129, 'porcentagem': 7.93}}\n",
      "{'salario_anual': {'quantidade': 187, 'porcentagem': 11.49}}\n"
     ]
    }
   ],
   "source": [
    "estatistica_dados_faltantes(df=df[df['default']==1]) #levanta os dados faltantes sobre os clientes inadimplentes (Default = 1)"
   ]
  },
  {
   "cell_type": "markdown",
   "id": "428cf48b",
   "metadata": {
    "papermill": {
     "duration": 0.018554,
     "end_time": "2024-04-22T21:11:39.634883",
     "exception": false,
     "start_time": "2024-04-22T21:11:39.616329",
     "status": "completed"
    },
    "tags": []
   },
   "source": [
    "Realizar a limpeza, retirando as colunas com dados faltantes."
   ]
  },
  {
   "cell_type": "code",
   "execution_count": 17,
   "id": "4a0a2284",
   "metadata": {
    "execution": {
     "iopub.execute_input": "2024-04-22T21:11:39.676671Z",
     "iopub.status.busy": "2024-04-22T21:11:39.676317Z",
     "iopub.status.idle": "2024-04-22T21:11:39.696162Z",
     "shell.execute_reply": "2024-04-22T21:11:39.694236Z"
    },
    "papermill": {
     "duration": 0.044296,
     "end_time": "2024-04-22T21:11:39.699409",
     "exception": false,
     "start_time": "2024-04-22T21:11:39.655113",
     "status": "completed"
    },
    "tags": []
   },
   "outputs": [
    {
     "name": "stdout",
     "output_type": "stream",
     "text": [
      "O total de clientes é: 7081\n",
      "O total de clientes adimplentes é:5968 e representa 84.28% do total\n",
      "O total de clientes inadimplentes é:1113 e representa 15.72% o total\n"
     ]
    }
   ],
   "source": [
    "df.dropna(inplace=True)\n",
    "df.shape \n",
    "total_new,_ = df.shape # \n",
    "total_adimplentes_new,_ = df[df['default']== 0].shape \n",
    "total_inadimplentes_new,_ = df[df['default']==1].shape \n",
    "\n",
    "propor_adimplente_new = round(100 * total_adimplentes_new / total_new, 2)\n",
    "propor_inadimplente_new = round(100 * total_inadimplentes_new / total_new, 2)\n",
    "print(f'O total de clientes é: {total_new}')\n",
    "print(f'O total de clientes adimplentes é:{total_adimplentes_new}'+ f' e representa {propor_adimplente_new}% do total')\n",
    "print(f'O total de clientes inadimplentes é:{total_inadimplentes_new}'+ f' e representa {propor_inadimplente_new}% o total')"
   ]
  },
  {
   "cell_type": "markdown",
   "id": "71e8d783",
   "metadata": {
    "papermill": {
     "duration": 0.019413,
     "end_time": "2024-04-22T21:11:39.740634",
     "exception": false,
     "start_time": "2024-04-22T21:11:39.721221",
     "status": "completed"
    },
    "tags": []
   },
   "source": [
    "Fazendo uma comparação entre os dados antigos com os novos dados após a remoção de dados faltantes."
   ]
  },
  {
   "cell_type": "code",
   "execution_count": 18,
   "id": "9a687999",
   "metadata": {
    "execution": {
     "iopub.execute_input": "2024-04-22T21:11:39.781301Z",
     "iopub.status.busy": "2024-04-22T21:11:39.780848Z",
     "iopub.status.idle": "2024-04-22T21:11:39.788986Z",
     "shell.execute_reply": "2024-04-22T21:11:39.786691Z"
    },
    "papermill": {
     "duration": 0.031947,
     "end_time": "2024-04-22T21:11:39.791634",
     "exception": false,
     "start_time": "2024-04-22T21:11:39.759687",
     "status": "completed"
    },
    "tags": []
   },
   "outputs": [
    {
     "name": "stdout",
     "output_type": "stream",
     "text": [
      "Total de cliente antigo 10127 \n",
      "Total de clientes novo: 7081 \n",
      "Diferença = 3046\n"
     ]
    }
   ],
   "source": [
    "print(f'Total de cliente antigo {total}'+ f' \\nTotal de clientes novo: {total_new}'+ f' \\nDiferença = {total-total_new}')\n"
   ]
  },
  {
   "cell_type": "code",
   "execution_count": 19,
   "id": "0455d1db",
   "metadata": {
    "execution": {
     "iopub.execute_input": "2024-04-22T21:11:39.834381Z",
     "iopub.status.busy": "2024-04-22T21:11:39.833562Z",
     "iopub.status.idle": "2024-04-22T21:11:39.841727Z",
     "shell.execute_reply": "2024-04-22T21:11:39.839792Z"
    },
    "papermill": {
     "duration": 0.033155,
     "end_time": "2024-04-22T21:11:39.844467",
     "exception": false,
     "start_time": "2024-04-22T21:11:39.811312",
     "status": "completed"
    },
    "tags": []
   },
   "outputs": [
    {
     "name": "stdout",
     "output_type": "stream",
     "text": [
      "A proporção anterior de adiplentes ativos era de: 83.93% \n",
      "A nova proporção de adimplentes é: 84.28%\n"
     ]
    }
   ],
   "source": [
    "print(f'A proporção anterior de adiplentes ativos era de: {propor_adimplente}% \\nA nova proporção de adimplentes é: {propor_adimplente_new}%')"
   ]
  },
  {
   "cell_type": "code",
   "execution_count": 20,
   "id": "d0bf61af",
   "metadata": {
    "execution": {
     "iopub.execute_input": "2024-04-22T21:11:39.886051Z",
     "iopub.status.busy": "2024-04-22T21:11:39.885509Z",
     "iopub.status.idle": "2024-04-22T21:11:39.892893Z",
     "shell.execute_reply": "2024-04-22T21:11:39.891385Z"
    },
    "papermill": {
     "duration": 0.031709,
     "end_time": "2024-04-22T21:11:39.895733",
     "exception": false,
     "start_time": "2024-04-22T21:11:39.864024",
     "status": "completed"
    },
    "tags": []
   },
   "outputs": [
    {
     "name": "stdout",
     "output_type": "stream",
     "text": [
      "A proporção anterior de inadiplentes ativos era de: 16.07% \n",
      "A nova proporção de adimplentes é: 15.72%\n"
     ]
    }
   ],
   "source": [
    "print(f'A proporção anterior de inadiplentes ativos era de: {propor_inadimplente}% \\nA nova proporção de adimplentes é: {propor_inadimplente_new}%')"
   ]
  },
  {
   "cell_type": "markdown",
   "id": "152eac36",
   "metadata": {
    "papermill": {
     "duration": 0.019169,
     "end_time": "2024-04-22T21:11:39.935236",
     "exception": false,
     "start_time": "2024-04-22T21:11:39.916067",
     "status": "completed"
    },
    "tags": []
   },
   "source": [
    "Após a limpezada dos dados faltantes, é possivel perceber que as proporções de adimplentes e inadimplentes praticamente não sofreram alterações. Sendo assim, Os dados estão prontos para visualização e análise."
   ]
  },
  {
   "cell_type": "markdown",
   "id": "de268b15",
   "metadata": {
    "papermill": {
     "duration": 0.019043,
     "end_time": "2024-04-22T21:11:39.974581",
     "exception": false,
     "start_time": "2024-04-22T21:11:39.955538",
     "status": "completed"
    },
    "tags": []
   },
   "source": [
    "# **Análise dos dados com visualição de gráficos**"
   ]
  },
  {
   "cell_type": "code",
   "execution_count": 21,
   "id": "2a5c675f",
   "metadata": {
    "execution": {
     "iopub.execute_input": "2024-04-22T21:11:40.022210Z",
     "iopub.status.busy": "2024-04-22T21:11:40.021455Z",
     "iopub.status.idle": "2024-04-22T21:11:40.031828Z",
     "shell.execute_reply": "2024-04-22T21:11:40.030624Z"
    },
    "papermill": {
     "duration": 0.03826,
     "end_time": "2024-04-22T21:11:40.035607",
     "exception": false,
     "start_time": "2024-04-22T21:11:39.997347",
     "status": "completed"
    },
    "tags": []
   },
   "outputs": [],
   "source": [
    "sns.set_style(\"whitegrid\") #Definindo um grid light\n",
    "df_adimplente = df[df['default'] == 0]\n",
    "df_inadimplente = df[df['default'] == 1]"
   ]
  },
  {
   "cell_type": "markdown",
   "id": "33bb8680",
   "metadata": {
    "papermill": {
     "duration": 0.028189,
     "end_time": "2024-04-22T21:11:40.095447",
     "exception": false,
     "start_time": "2024-04-22T21:11:40.067258",
     "status": "completed"
    },
    "tags": []
   },
   "source": [
    "Vamos analisar primeiro os atributos caregóricos como: escolaridade, tipo_cartao, salario_anual."
   ]
  },
  {
   "cell_type": "markdown",
   "id": "3a753f3b",
   "metadata": {
    "papermill": {
     "duration": 0.020756,
     "end_time": "2024-04-22T21:11:40.140340",
     "exception": false,
     "start_time": "2024-04-22T21:11:40.119584",
     "status": "completed"
    },
    "tags": []
   },
   "source": [
    "# **Escolaridade**"
   ]
  },
  {
   "cell_type": "code",
   "execution_count": 22,
   "id": "18ce99ac",
   "metadata": {
    "execution": {
     "iopub.execute_input": "2024-04-22T21:11:40.183725Z",
     "iopub.status.busy": "2024-04-22T21:11:40.182406Z",
     "iopub.status.idle": "2024-04-22T21:11:41.540686Z",
     "shell.execute_reply": "2024-04-22T21:11:41.539168Z"
    },
    "papermill": {
     "duration": 1.384225,
     "end_time": "2024-04-22T21:11:41.544493",
     "exception": false,
     "start_time": "2024-04-22T21:11:40.160268",
     "status": "completed"
    },
    "tags": []
   },
   "outputs": [
    {
     "data": {
      "image/png": "[encoded data removed]",
      "text/plain": [
       "<Figure size 2000x500 with 3 Axes>"
      ]
     },
     "metadata": {},
     "output_type": "display_data"
    }
   ],
   "source": [
    "coluna = 'escolaridade'\n",
    "titulos = ['Escolaridade dos Clientes', 'Escolaridade dos Clientes Adimplentes', 'Escolaridade dos Clientes Inadimplentes']\n",
    "eixo = 0\n",
    "max_y = 0\n",
    "max = df.select_dtypes('object').describe()[coluna]['freq'] * 1.1\n",
    "figura, eixos = plt.subplots(1, 3, figsize=(20, 5), sharex=True)\n",
    "for dataframe in [df, df_adimplente, df_inadimplente]:\n",
    "\n",
    "    df_to_plot = dataframe[coluna].value_counts().reset_index()  # Cria um novo DataFrame com as contagens\n",
    "    df_to_plot.columns = [coluna, 'frequencia_absoluta']\n",
    "    df_to_plot.sort_values(by=[coluna], inplace=True)\n",
    "    f = sns.barplot(x=coluna, y='frequencia_absoluta', data=df_to_plot, ax=eixos[eixo])\n",
    "    f.set(title=titulos[eixo], xlabel=coluna.capitalize(), ylabel='Frequência Absoluta')\n",
    "    f.set_xticklabels(labels=df_to_plot[coluna], rotation=90)\n",
    "    _, max_y_f = f.get_ylim()\n",
    "    max_y = max_y_f if max_y_f > max_y else max_y\n",
    "    f.set(ylim=(0, max_y))\n",
    "    eixo += 1\n",
    "\n",
    "figura.show()"
   ]
  },
  {
   "cell_type": "markdown",
   "id": "9eb126ba",
   "metadata": {
    "papermill": {
     "duration": 0.021102,
     "end_time": "2024-04-22T21:11:41.594867",
     "exception": false,
     "start_time": "2024-04-22T21:11:41.573765",
     "status": "completed"
    },
    "tags": []
   },
   "source": [
    "Analisando os resultados pela escolaridade dos clientes não foi possivel chegar a uma determinada classe que resultaria em um impacto para definir se o cliente terá mais possibildiade de ser tornar adimplente ou inadimplente."
   ]
  },
  {
   "cell_type": "markdown",
   "id": "03f4f1c9",
   "metadata": {
    "papermill": {
     "duration": 0.020277,
     "end_time": "2024-04-22T21:11:41.636208",
     "exception": false,
     "start_time": "2024-04-22T21:11:41.615931",
     "status": "completed"
    },
    "tags": []
   },
   "source": [
    "# **Tipo de Cartão dos Clientes**"
   ]
  },
  {
   "cell_type": "code",
   "execution_count": 23,
   "id": "68e2aa9d",
   "metadata": {
    "execution": {
     "iopub.execute_input": "2024-04-22T21:11:41.678774Z",
     "iopub.status.busy": "2024-04-22T21:11:41.678278Z",
     "iopub.status.idle": "2024-04-22T21:11:42.731213Z",
     "shell.execute_reply": "2024-04-22T21:11:42.729090Z"
    },
    "papermill": {
     "duration": 1.077646,
     "end_time": "2024-04-22T21:11:42.733965",
     "exception": false,
     "start_time": "2024-04-22T21:11:41.656319",
     "status": "completed"
    },
    "tags": []
   },
   "outputs": [
    {
     "data": {
      "image/png": "[encoded data removed]",
      "text/plain": [
       "<Figure size 2000x500 with 3 Axes>"
      ]
     },
     "metadata": {},
     "output_type": "display_data"
    }
   ],
   "source": [
    "coluna = 'tipo_cartao'\n",
    "titulos = ['Tipo de cartao dos Clientes', 'Tipo de cartao dos Clientes Adimplentes', 'Tipo de cartao dos Clientes Inadimplentes']\n",
    "eixo = 0\n",
    "max_y = 0\n",
    "max = df.select_dtypes('object').describe()[coluna]['freq'] * 1.1\n",
    "figura, eixos = plt.subplots(1, 3, figsize=(20, 5), sharex=True)\n",
    "for dataframe in [df, df_adimplente, df_inadimplente]:\n",
    "\n",
    "    df_to_plot = dataframe[coluna].value_counts().reset_index()  # Cria um novo DataFrame com as contagens\n",
    "    df_to_plot.columns = [coluna, 'frequencia_absoluta']\n",
    "    df_to_plot.sort_values(by=[coluna], inplace=True)\n",
    "    f = sns.barplot(x=coluna, y='frequencia_absoluta', data=df_to_plot, ax=eixos[eixo])\n",
    "    f.set(title=titulos[eixo], xlabel='Tipo Cartão', ylabel='Frequência Absoluta')\n",
    "    f.set_xticklabels(labels=df_to_plot[coluna], rotation=90)\n",
    "    _, max_y_f = f.get_ylim()\n",
    "    max_y = max_y_f if max_y_f > max_y else max_y\n",
    "    f.set(ylim=(0, max_y))\n",
    "    eixo += 1\n",
    "\n",
    "figura.show()"
   ]
  },
  {
   "cell_type": "markdown",
   "id": "4cb00f43",
   "metadata": {
    "papermill": {
     "duration": 0.021496,
     "end_time": "2024-04-22T21:11:42.776153",
     "exception": false,
     "start_time": "2024-04-22T21:11:42.754657",
     "status": "completed"
    },
    "tags": []
   },
   "source": [
    "Analisando os resultados do tipo de cartão dos clientes foi possivel detectar que as pessoas que possuem cartao do tipo \"gold\" tem maior propabilidade de permanecerem adimplentes. Porem em relaçao aos outros tipos de cartões não foi possivel definir uma pré-disposição."
   ]
  },
  {
   "cell_type": "markdown",
   "id": "ab512acb",
   "metadata": {
    "papermill": {
     "duration": 0.021317,
     "end_time": "2024-04-22T21:11:42.820581",
     "exception": false,
     "start_time": "2024-04-22T21:11:42.799264",
     "status": "completed"
    },
    "tags": []
   },
   "source": [
    "# **Salário anual**"
   ]
  },
  {
   "cell_type": "code",
   "execution_count": 24,
   "id": "b89681f0",
   "metadata": {
    "execution": {
     "iopub.execute_input": "2024-04-22T21:11:42.866226Z",
     "iopub.status.busy": "2024-04-22T21:11:42.865782Z",
     "iopub.status.idle": "2024-04-22T21:11:44.026374Z",
     "shell.execute_reply": "2024-04-22T21:11:44.025176Z"
    },
    "papermill": {
     "duration": 1.187321,
     "end_time": "2024-04-22T21:11:44.029273",
     "exception": false,
     "start_time": "2024-04-22T21:11:42.841952",
     "status": "completed"
    },
    "tags": []
   },
   "outputs": [
    {
     "data": {
      "image/png": "[encoded data removed]",
      "text/plain": [
       "<Figure size 2000x500 with 3 Axes>"
      ]
     },
     "metadata": {},
     "output_type": "display_data"
    }
   ],
   "source": [
    "coluna = 'salario_anual'\n",
    "titulos = ['Salário Anual dos Clientes', 'Salário Anual dos Clientes Adimplentes', 'Salário Anual dos Clientes Inadimplentes']\n",
    "\n",
    "eixo = 0\n",
    "max_y = 0\n",
    "figura, eixos = plt.subplots(1,3, figsize=(20, 5), sharex=True)\n",
    "\n",
    "for dataframe in [df, df_adimplente, df_inadimplente]:\n",
    "\n",
    "  df_to_plot = dataframe[coluna].value_counts().reset_index()\n",
    "  df_to_plot.columns = [coluna, 'frequencia_absoluta']\n",
    "  df_to_plot.sort_values(by=[coluna], inplace=True)\n",
    "\n",
    "\n",
    "  f = sns.barplot(x=df_to_plot[coluna], y=df_to_plot['frequencia_absoluta'], ax=eixos[eixo])\n",
    "  f.set(title=titulos[eixo], xlabel='Salário Anual', ylabel='Frequência Absoluta')\n",
    "  f.set_xticklabels(labels=f.get_xticklabels(), rotation=90)\n",
    "  _, max_y_f = f.get_ylim()\n",
    "  max_y = max_y_f if max_y_f > max_y else max_y\n",
    "  f.set(ylim=(0, max_y))\n",
    "  eixo += 1\n",
    "\n",
    "figura.show()"
   ]
  },
  {
   "cell_type": "markdown",
   "id": "8dced14a",
   "metadata": {
    "papermill": {
     "duration": 0.022957,
     "end_time": "2024-04-22T21:11:44.074641",
     "exception": false,
     "start_time": "2024-04-22T21:11:44.051684",
     "status": "completed"
    },
    "tags": []
   },
   "source": [
    "Analisando os resultados referente ao salario anual dos clientes não foi possivel chegar a uma determinada faixa salarial que define a situação de inadimplência do cliente.\n"
   ]
  },
  {
   "cell_type": "markdown",
   "id": "c2870099",
   "metadata": {
    "papermill": {
     "duration": 0.022443,
     "end_time": "2024-04-22T21:11:44.120170",
     "exception": false,
     "start_time": "2024-04-22T21:11:44.097727",
     "status": "completed"
    },
    "tags": []
   },
   "source": [
    "Agora analisando os atributos numéricos."
   ]
  },
  {
   "cell_type": "markdown",
   "id": "8422a7b3",
   "metadata": {
    "papermill": {
     "duration": 0.02156,
     "end_time": "2024-04-22T21:11:44.163851",
     "exception": false,
     "start_time": "2024-04-22T21:11:44.142291",
     "status": "completed"
    },
    "tags": []
   },
   "source": [
    "# **Quantidade de transações durante 12 meses**"
   ]
  },
  {
   "cell_type": "code",
   "execution_count": 25,
   "id": "57df4f8d",
   "metadata": {
    "execution": {
     "iopub.execute_input": "2024-04-22T21:11:44.209755Z",
     "iopub.status.busy": "2024-04-22T21:11:44.209364Z",
     "iopub.status.idle": "2024-04-22T21:11:45.701780Z",
     "shell.execute_reply": "2024-04-22T21:11:45.700149Z"
    },
    "papermill": {
     "duration": 1.518159,
     "end_time": "2024-04-22T21:11:45.704642",
     "exception": false,
     "start_time": "2024-04-22T21:11:44.186483",
     "status": "completed"
    },
    "tags": []
   },
   "outputs": [
    {
     "name": "stderr",
     "output_type": "stream",
     "text": [
      "/opt/conda/lib/python3.10/site-packages/seaborn/_oldcore.py:1119: FutureWarning: use_inf_as_na option is deprecated and will be removed in a future version. Convert inf values to NaN before operating instead.\n",
      "  with pd.option_context('mode.use_inf_as_na', True):\n",
      "/opt/conda/lib/python3.10/site-packages/seaborn/_oldcore.py:1119: FutureWarning: use_inf_as_na option is deprecated and will be removed in a future version. Convert inf values to NaN before operating instead.\n",
      "  with pd.option_context('mode.use_inf_as_na', True):\n",
      "/opt/conda/lib/python3.10/site-packages/seaborn/_oldcore.py:1119: FutureWarning: use_inf_as_na option is deprecated and will be removed in a future version. Convert inf values to NaN before operating instead.\n",
      "  with pd.option_context('mode.use_inf_as_na', True):\n"
     ]
    },
    {
     "data": {
      "image/png": "[encoded data removed]",
      "text/plain": [
       "<Figure size 2000x500 with 3 Axes>"
      ]
     },
     "metadata": {},
     "output_type": "display_data"
    }
   ],
   "source": [
    "coluna = 'qtd_transacoes_12m'\n",
    "titulos = ['Qtd. de Transações no Último Ano', 'Qtd. de Transações no Último Ano de Adimplentes', 'Qtd. de Transações no Último Ano de Inadimplentes']\n",
    "\n",
    "eixo = 0\n",
    "max_y = 0\n",
    "figura, eixos = plt.subplots(1,3, figsize=(20, 5), sharex=True)\n",
    "\n",
    "for dataframe in [df, df_adimplente, df_inadimplente]:\n",
    "\n",
    "  f = sns.histplot(x=coluna, data=dataframe, stat='count', ax=eixos[eixo])\n",
    "  f.set(title=titulos[eixo], xlabel='Quantidade de Transações no Ano', ylabel='Frequência Absoluta')\n",
    "\n",
    "  _, max_y_f = f.get_ylim()\n",
    "  max_y = max_y_f if max_y_f > max_y else max_y\n",
    "  f.set(ylim=(0, max_y))\n",
    "\n",
    "  eixo += 1\n",
    "\n",
    "figura.show()"
   ]
  },
  {
   "cell_type": "markdown",
   "id": "c8201a98",
   "metadata": {
    "papermill": {
     "duration": 0.021973,
     "end_time": "2024-04-22T21:11:45.749574",
     "exception": false,
     "start_time": "2024-04-22T21:11:45.727601",
     "status": "completed"
    },
    "tags": []
   },
   "source": [
    "Pela disposição dos dados no gráfico, é possivel observar que a maior parte dos clientes inadimplentes fazem em media 40 transações anuais. Já os clientes adimplentes fazem maiores números de transações anuais."
   ]
  },
  {
   "cell_type": "markdown",
   "id": "6a3a4f98",
   "metadata": {
    "papermill": {
     "duration": 0.022032,
     "end_time": "2024-04-22T21:11:45.793887",
     "exception": false,
     "start_time": "2024-04-22T21:11:45.771855",
     "status": "completed"
    },
    "tags": []
   },
   "source": [
    "# **Limite de crédito**"
   ]
  },
  {
   "cell_type": "code",
   "execution_count": 26,
   "id": "2cec588c",
   "metadata": {
    "execution": {
     "iopub.execute_input": "2024-04-22T21:11:45.842000Z",
     "iopub.status.busy": "2024-04-22T21:11:45.841568Z",
     "iopub.status.idle": "2024-04-22T21:11:47.438012Z",
     "shell.execute_reply": "2024-04-22T21:11:47.436888Z"
    },
    "papermill": {
     "duration": 1.624606,
     "end_time": "2024-04-22T21:11:47.440876",
     "exception": false,
     "start_time": "2024-04-22T21:11:45.816270",
     "status": "completed"
    },
    "tags": []
   },
   "outputs": [
    {
     "name": "stderr",
     "output_type": "stream",
     "text": [
      "/opt/conda/lib/python3.10/site-packages/seaborn/_oldcore.py:1119: FutureWarning: use_inf_as_na option is deprecated and will be removed in a future version. Convert inf values to NaN before operating instead.\n",
      "  with pd.option_context('mode.use_inf_as_na', True):\n",
      "/opt/conda/lib/python3.10/site-packages/seaborn/_oldcore.py:1119: FutureWarning: use_inf_as_na option is deprecated and will be removed in a future version. Convert inf values to NaN before operating instead.\n",
      "  with pd.option_context('mode.use_inf_as_na', True):\n",
      "/opt/conda/lib/python3.10/site-packages/seaborn/_oldcore.py:1119: FutureWarning: use_inf_as_na option is deprecated and will be removed in a future version. Convert inf values to NaN before operating instead.\n",
      "  with pd.option_context('mode.use_inf_as_na', True):\n"
     ]
    },
    {
     "data": {
      "image/png": "[encoded data removed]",
      "text/plain": [
       "<Figure size 2000x500 with 3 Axes>"
      ]
     },
     "metadata": {},
     "output_type": "display_data"
    }
   ],
   "source": [
    "coluna = 'limite_credito'\n",
    "titulos = ['Limite de Crédito', 'Limite de Crédito de Adimplentes', 'Limite de Crédito de Inadimplentes']\n",
    "\n",
    "eixo = 0\n",
    "max_y = 0\n",
    "figura, eixos = plt.subplots(1,3, figsize=(20, 5), sharex=True)\n",
    "\n",
    "for dataframe in [df, df_adimplente, df_inadimplente]:\n",
    "\n",
    "  f = sns.histplot(x=coluna, data=dataframe, stat='count', ax=eixos[eixo])\n",
    "  f.set(title=titulos[eixo], xlabel=\"Limite de crédito\", ylabel='Frequência Absoluta')\n",
    "\n",
    "  _, max_y_f = f.get_ylim()\n",
    "  max_y = max_y_f if max_y_f > max_y else max_y\n",
    "  f.set(ylim=(0, max_y))\n",
    "\n",
    "  eixo += 1\n",
    "\n",
    "figura.show()"
   ]
  },
  {
   "cell_type": "markdown",
   "id": "894e49d5",
   "metadata": {
    "papermill": {
     "duration": 0.024407,
     "end_time": "2024-04-22T21:11:47.489378",
     "exception": false,
     "start_time": "2024-04-22T21:11:47.464971",
     "status": "completed"
    },
    "tags": []
   },
   "source": [
    "Através do limite de crédito não é possível determinar nenhuma faixa de limite de crédito que seja tendenciosa a tornar um cliente adimplente ou inadimplente."
   ]
  },
  {
   "cell_type": "markdown",
   "id": "44df763e",
   "metadata": {
    "papermill": {
     "duration": 0.022912,
     "end_time": "2024-04-22T21:11:47.535507",
     "exception": false,
     "start_time": "2024-04-22T21:11:47.512595",
     "status": "completed"
    },
    "tags": []
   },
   "source": [
    "# **Valor das Transações em 12 meses**"
   ]
  },
  {
   "cell_type": "code",
   "execution_count": 27,
   "id": "26a0ea82",
   "metadata": {
    "execution": {
     "iopub.execute_input": "2024-04-22T21:11:47.583918Z",
     "iopub.status.busy": "2024-04-22T21:11:47.583167Z",
     "iopub.status.idle": "2024-04-22T21:11:49.491171Z",
     "shell.execute_reply": "2024-04-22T21:11:49.489932Z"
    },
    "papermill": {
     "duration": 1.935411,
     "end_time": "2024-04-22T21:11:49.493904",
     "exception": false,
     "start_time": "2024-04-22T21:11:47.558493",
     "status": "completed"
    },
    "tags": []
   },
   "outputs": [
    {
     "name": "stderr",
     "output_type": "stream",
     "text": [
      "/opt/conda/lib/python3.10/site-packages/seaborn/_oldcore.py:1119: FutureWarning: use_inf_as_na option is deprecated and will be removed in a future version. Convert inf values to NaN before operating instead.\n",
      "  with pd.option_context('mode.use_inf_as_na', True):\n",
      "/opt/conda/lib/python3.10/site-packages/seaborn/_oldcore.py:1119: FutureWarning: use_inf_as_na option is deprecated and will be removed in a future version. Convert inf values to NaN before operating instead.\n",
      "  with pd.option_context('mode.use_inf_as_na', True):\n",
      "/opt/conda/lib/python3.10/site-packages/seaborn/_oldcore.py:1119: FutureWarning: use_inf_as_na option is deprecated and will be removed in a future version. Convert inf values to NaN before operating instead.\n",
      "  with pd.option_context('mode.use_inf_as_na', True):\n"
     ]
    },
    {
     "data": {
      "image/png": "[encoded data removed]",
      "text/plain": [
       "<Figure size 2000x500 with 3 Axes>"
      ]
     },
     "metadata": {},
     "output_type": "display_data"
    }
   ],
   "source": [
    "coluna = 'valor_transacoes_12m'\n",
    "titulos = ['Valor das Transações no Último Ano', 'Valor das Transações no Último Ano de Adimplentes', 'Valor das Transações no Último Ano de Inadimplentes']\n",
    "\n",
    "eixo = 0\n",
    "max_y = 0\n",
    "figura, eixos = plt.subplots(1,3, figsize=(20, 5), sharex=True)\n",
    "\n",
    "for dataframe in [df, df_adimplente, df_inadimplente]:\n",
    "\n",
    "  f = sns.histplot(x=coluna, data=dataframe, stat='count', ax=eixos[eixo])\n",
    "  f.set(title=titulos[eixo], xlabel=\"Valor das Transações em 12 meses\", ylabel='Frequência Absoluta')\n",
    "\n",
    "  _, max_y_f = f.get_ylim()\n",
    "  max_y = max_y_f if max_y_f > max_y else max_y\n",
    "  f.set(ylim=(0, max_y))\n",
    "\n",
    "  eixo += 1\n",
    "\n",
    "figura.show()"
   ]
  },
  {
   "cell_type": "markdown",
   "id": "5c358305",
   "metadata": {
    "papermill": {
     "duration": 0.026292,
     "end_time": "2024-04-22T21:11:49.546693",
     "exception": false,
     "start_time": "2024-04-22T21:11:49.520401",
     "status": "completed"
    },
    "tags": []
   },
   "source": [
    "Com a analise do valor das transações anuais, é possivel percerber que os clientes que fazem transações com valores baixos tendem a se tornar inadimplentes. Já os com as transações de maior valor(>10000) não apresentam casos de inadimplência. "
   ]
  },
  {
   "cell_type": "markdown",
   "id": "ff0edb25",
   "metadata": {
    "papermill": {
     "duration": 0.025627,
     "end_time": "2024-04-22T21:11:49.600999",
     "exception": false,
     "start_time": "2024-04-22T21:11:49.575372",
     "status": "completed"
    },
    "tags": []
   },
   "source": [
    "# # **Conclusão**"
   ]
  },
  {
   "cell_type": "markdown",
   "id": "35e0d87e",
   "metadata": {
    "papermill": {
     "duration": 0.025994,
     "end_time": "2024-04-22T21:11:49.653694",
     "exception": false,
     "start_time": "2024-04-22T21:11:49.627700",
     "status": "completed"
    },
    "tags": []
   },
   "source": [
    "Após a análise dos dados, tento em vista o objetivo de determinar os fatores para um cliente se classificar como adimplente ou inadimplente, temos que os clientes que utilziam do cartão tipo \"GOLD\", fazem um volume maior de transações no ano e as transações são de valores altos(maiores que 10000) dentro de 12 meses, tem a maior probalidade de se manterem adimplentes. Já os clientes com poucas transações e com transações de valores baixos, tem a maior possibilidade de se tornarem inadimplentes. Alguns atributos analisados não apresentam variação suficiente para chegar a uma conclusão."
   ]
  }
 ],
 "metadata": {
  "kaggle": {
   "accelerator": "none",
   "dataSources": [
    {
     "datasetId": 4854538,
     "sourceId": 8195826,
     "sourceType": "datasetVersion"
    }
   ],
   "dockerImageVersionId": 30698,
   "isGpuEnabled": false,
   "isInternetEnabled": true,
   "language": "python",
   "sourceType": "notebook"
  },
  "kernelspec": {
   "display_name": "Python 3",
   "language": "python",
   "name": "python3"
  },
  "language_info": {
   "codemirror_mode": {
    "name": "ipython",
    "version": 3
   },
   "file_extension": ".py",
   "mimetype": "text/x-python",
   "name": "python",
   "nbconvert_exporter": "python",
   "pygments_lexer": "ipython3",
   "version": "3.10.13"
  },
  "papermill": {
   "default_parameters": {},
   "duration": 18.884694,
   "end_time": "2024-04-22T21:11:50.607891",
   "environment_variables": {},
   "exception": null,
   "input_path": "__notebook__.ipynb",
   "output_path": "__notebook__.ipynb",
   "parameters": {},
   "start_time": "2024-04-22T21:11:31.723197",
   "version": "2.5.0"
  }
 },
 "nbformat": 4,
 "nbformat_minor": 5
}
